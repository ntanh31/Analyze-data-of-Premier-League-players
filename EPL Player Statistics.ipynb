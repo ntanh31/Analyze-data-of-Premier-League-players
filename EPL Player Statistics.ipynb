{
 "cells": [
  {
   "cell_type": "code",
   "execution_count": 1,
   "id": "6098269c-d718-4d77-83f1-f17570a3e047",
   "metadata": {},
   "outputs": [
    {
     "data": {
      "text/html": [
       "        <script type=\"text/javascript\">\n",
       "        window.PlotlyConfig = {MathJaxConfig: 'local'};\n",
       "        if (window.MathJax && window.MathJax.Hub && window.MathJax.Hub.Config) {window.MathJax.Hub.Config({SVG: {font: \"STIX-Web\"}});}\n",
       "        if (typeof require !== 'undefined') {\n",
       "        require.undef(\"plotly\");\n",
       "        requirejs.config({\n",
       "            paths: {\n",
       "                'plotly': ['https://cdn.plot.ly/plotly-2.12.1.min']\n",
       "            }\n",
       "        });\n",
       "        require(['plotly'], function(Plotly) {\n",
       "            window._Plotly = Plotly;\n",
       "        });\n",
       "        }\n",
       "        </script>\n",
       "        "
      ]
     },
     "metadata": {},
     "output_type": "display_data"
    },
    {
     "data": {
      "text/html": [
       "        <script type=\"text/javascript\">\n",
       "        window.PlotlyConfig = {MathJaxConfig: 'local'};\n",
       "        if (window.MathJax && window.MathJax.Hub && window.MathJax.Hub.Config) {window.MathJax.Hub.Config({SVG: {font: \"STIX-Web\"}});}\n",
       "        if (typeof require !== 'undefined') {\n",
       "        require.undef(\"plotly\");\n",
       "        requirejs.config({\n",
       "            paths: {\n",
       "                'plotly': ['https://cdn.plot.ly/plotly-2.12.1.min']\n",
       "            }\n",
       "        });\n",
       "        require(['plotly'], function(Plotly) {\n",
       "            window._Plotly = Plotly;\n",
       "        });\n",
       "        }\n",
       "        </script>\n",
       "        "
      ]
     },
     "metadata": {},
     "output_type": "display_data"
    }
   ],
   "source": [
    "import pandas as pd\n",
    "import numpy as np\n",
    "import seaborn as sb\n",
    "import matplotlib.pyplot as plt\n",
    "\n",
    "import cufflinks as cf\n",
    "\n",
    "import plotly.graph_objects as go\n",
    "from plotly.subplots import make_subplots \n",
    "\n",
    "from plotly.offline import init_notebook_mode, download_plotlyjs, plot, iplot\n",
    "import plotly.express as px\n",
    "\n",
    "%matplotlib inline\n",
    "cf.go_offline()\n",
    "\n",
    "init_notebook_mode(connected = True)"
   ]
  },
  {
   "cell_type": "code",
   "execution_count": 2,
   "id": "02da62f2-fba9-47fc-a5b4-d552e8d09dde",
   "metadata": {},
   "outputs": [],
   "source": [
    "pl15 = pd.read_csv('pl_15-16.csv')\n",
    "pl16 = pd.read_csv('pl_16-17.csv')\n",
    "pl17 = pd.read_csv('pl_17-18.csv')\n",
    "pl18 = pd.read_csv('pl_18-19.csv')\n",
    "pl19 = pd.read_csv('pl_19-20.csv')\n",
    "pl20 = pd.read_csv('pl_20-21.csv')\n",
    "\n",
    "pl15['Year'] = \"2015/2016\"\n",
    "pl16['Year'] = \"2016/2017\"\n",
    "pl17['Year'] = \"2017/2018\"\n",
    "pl18['Year'] = \"2018/2019\"\n",
    "pl19['Year'] = \"2019/2020\"\n",
    "pl20['Year'] = \"2020/2021\""
   ]
  },
  {
   "cell_type": "code",
   "execution_count": 3,
   "id": "abba93cb-7f31-429e-b014-e5dce932b282",
   "metadata": {},
   "outputs": [],
   "source": [
    "pl_15to20 = pd.concat([pl15, pl16, pl17, pl18, pl19, pl20])"
   ]
  },
  {
   "cell_type": "code",
   "execution_count": 4,
   "id": "5e0743bf-ed3b-4f62-bb64-da37fa6a2abd",
   "metadata": {
    "collapsed": true,
    "jupyter": {
     "outputs_hidden": true
    },
    "tags": []
   },
   "outputs": [
    {
     "name": "stdout",
     "output_type": "stream",
     "text": [
      "<class 'pandas.core.frame.DataFrame'>\n",
      "Int64Index: 5109 entries, 0 to 861\n",
      "Data columns (total 58 columns):\n",
      " #   Column                  Non-Null Count  Dtype  \n",
      "---  ------                  --------------  -----  \n",
      " 0   Unnamed: 0              5109 non-null   int64  \n",
      " 1   Name                    5109 non-null   object \n",
      " 2   Position                5109 non-null   object \n",
      " 3   Appearances             5109 non-null   int64  \n",
      " 4   Clean sheets            2204 non-null   float64\n",
      " 5   Goals conceded          1824 non-null   float64\n",
      " 6   Tackles                 4525 non-null   float64\n",
      " 7   Tackle success %        3464 non-null   object \n",
      " 8   Last man tackles        1620 non-null   float64\n",
      " 9   Blocked shots           4525 non-null   float64\n",
      " 10  Interceptions           4525 non-null   float64\n",
      " 11  Clearances              4525 non-null   float64\n",
      " 12  Headed Clearance        4525 non-null   float64\n",
      " 13  Clearances off line     1620 non-null   float64\n",
      " 14  Recoveries              3464 non-null   float64\n",
      " 15  Duels won               3464 non-null   float64\n",
      " 16  Duels lost              3464 non-null   float64\n",
      " 17  Successful 50/50s       3464 non-null   float64\n",
      " 18  Aerial battles won      3464 non-null   float64\n",
      " 19  Aerial battles lost     3464 non-null   float64\n",
      " 20  Own goals               2204 non-null   float64\n",
      " 21  Errors leading to goal  4048 non-null   float64\n",
      " 22  Assists                 5109 non-null   int64  \n",
      " 23  Passes                  5109 non-null   object \n",
      " 24  Passes per match        5109 non-null   float64\n",
      " 25  Big chances created     3768 non-null   float64\n",
      " 26  Crosses                 4525 non-null   float64\n",
      " 27  Cross accuracy %        3464 non-null   object \n",
      " 28  Through balls           3464 non-null   float64\n",
      " 29  Accurate long balls     4048 non-null   float64\n",
      " 30  Yellow cards            5109 non-null   int64  \n",
      " 31  Red cards               5109 non-null   int64  \n",
      " 32  Fouls                   5109 non-null   int64  \n",
      " 33  Offsides                4525 non-null   float64\n",
      " 34  Goals                   5109 non-null   int64  \n",
      " 35  Headed goals            4525 non-null   float64\n",
      " 36  Goals with right foot   4525 non-null   float64\n",
      " 37  Goals with left foot    4525 non-null   float64\n",
      " 38  Hit woodwork            4525 non-null   float64\n",
      " 39  Goals per match         2905 non-null   float64\n",
      " 40  Penalties scored        2905 non-null   float64\n",
      " 41  Freekicks scored        2905 non-null   float64\n",
      " 42  Shots                   2905 non-null   float64\n",
      " 43  Shots on target         2905 non-null   float64\n",
      " 44  Shooting accuracy %     2905 non-null   object \n",
      " 45  Big chances missed      2905 non-null   float64\n",
      " 46  Saves                   584 non-null    float64\n",
      " 47  Penalties saved         479 non-null    float64\n",
      " 48  Punches                 584 non-null    float64\n",
      " 49  High Claims             584 non-null    float64\n",
      " 50  Catches                 584 non-null    float64\n",
      " 51  Sweeper clearances      584 non-null    float64\n",
      " 52  Throw outs              584 non-null    float64\n",
      " 53  Goal Kicks              584 non-null    float64\n",
      " 54  Year                    5109 non-null   object \n",
      " 55  Goals Conceded          380 non-null    float64\n",
      " 56  Big Chances Created     757 non-null    float64\n",
      " 57  Penalties Saved         105 non-null    float64\n",
      "dtypes: float64(44), int64(7), object(7)\n",
      "memory usage: 2.3+ MB\n"
     ]
    }
   ],
   "source": [
    "pl_15to20.info()"
   ]
  },
  {
   "cell_type": "code",
   "execution_count": null,
   "id": "801b7c34-5fc6-4f64-adc5-d7612b1a0cbf",
   "metadata": {
    "collapsed": true,
    "jupyter": {
     "outputs_hidden": true
    },
    "tags": []
   },
   "outputs": [
    {
     "data": {
      "text/html": [
       "<div>\n",
       "<style scoped>\n",
       "    .dataframe tbody tr th:only-of-type {\n",
       "        vertical-align: middle;\n",
       "    }\n",
       "\n",
       "    .dataframe tbody tr th {\n",
       "        vertical-align: top;\n",
       "    }\n",
       "\n",
       "    .dataframe thead th {\n",
       "        text-align: right;\n",
       "    }\n",
       "</style>\n",
       "<table border=\"1\" class=\"dataframe\">\n",
       "  <thead>\n",
       "    <tr style=\"text-align: right;\">\n",
       "      <th></th>\n",
       "      <th>Unnamed: 0</th>\n",
       "      <th>Name</th>\n",
       "      <th>Position</th>\n",
       "      <th>Appearances</th>\n",
       "      <th>Clean sheets</th>\n",
       "      <th>Goals conceded</th>\n",
       "      <th>Tackles</th>\n",
       "      <th>Tackle success %</th>\n",
       "      <th>Last man tackles</th>\n",
       "      <th>Blocked shots</th>\n",
       "      <th>...</th>\n",
       "      <th>Big chances missed</th>\n",
       "      <th>Saves</th>\n",
       "      <th>Penalties saved</th>\n",
       "      <th>Punches</th>\n",
       "      <th>High Claims</th>\n",
       "      <th>Catches</th>\n",
       "      <th>Sweeper clearances</th>\n",
       "      <th>Throw outs</th>\n",
       "      <th>Goal Kicks</th>\n",
       "      <th>Year</th>\n",
       "    </tr>\n",
       "  </thead>\n",
       "  <tbody>\n",
       "    <tr>\n",
       "      <th>0</th>\n",
       "      <td>0</td>\n",
       "      <td>Rolando Aarons</td>\n",
       "      <td>Midfielder</td>\n",
       "      <td>10</td>\n",
       "      <td>NaN</td>\n",
       "      <td>NaN</td>\n",
       "      <td>13.0</td>\n",
       "      <td>77%</td>\n",
       "      <td>NaN</td>\n",
       "      <td>0.0</td>\n",
       "      <td>...</td>\n",
       "      <td>0.0</td>\n",
       "      <td>NaN</td>\n",
       "      <td>NaN</td>\n",
       "      <td>NaN</td>\n",
       "      <td>NaN</td>\n",
       "      <td>NaN</td>\n",
       "      <td>NaN</td>\n",
       "      <td>NaN</td>\n",
       "      <td>NaN</td>\n",
       "      <td>2015/2016</td>\n",
       "    </tr>\n",
       "    <tr>\n",
       "      <th>1</th>\n",
       "      <td>1</td>\n",
       "      <td>Almen Abdi</td>\n",
       "      <td>Midfielder</td>\n",
       "      <td>32</td>\n",
       "      <td>NaN</td>\n",
       "      <td>NaN</td>\n",
       "      <td>83.0</td>\n",
       "      <td>78%</td>\n",
       "      <td>NaN</td>\n",
       "      <td>10.0</td>\n",
       "      <td>...</td>\n",
       "      <td>1.0</td>\n",
       "      <td>NaN</td>\n",
       "      <td>NaN</td>\n",
       "      <td>NaN</td>\n",
       "      <td>NaN</td>\n",
       "      <td>NaN</td>\n",
       "      <td>NaN</td>\n",
       "      <td>NaN</td>\n",
       "      <td>NaN</td>\n",
       "      <td>2015/2016</td>\n",
       "    </tr>\n",
       "    <tr>\n",
       "      <th>2</th>\n",
       "      <td>2</td>\n",
       "      <td>Abdul Rahman Baba</td>\n",
       "      <td>Defender</td>\n",
       "      <td>15</td>\n",
       "      <td>2.0</td>\n",
       "      <td>13.0</td>\n",
       "      <td>47.0</td>\n",
       "      <td>83%</td>\n",
       "      <td>0.0</td>\n",
       "      <td>1.0</td>\n",
       "      <td>...</td>\n",
       "      <td>NaN</td>\n",
       "      <td>NaN</td>\n",
       "      <td>NaN</td>\n",
       "      <td>NaN</td>\n",
       "      <td>NaN</td>\n",
       "      <td>NaN</td>\n",
       "      <td>NaN</td>\n",
       "      <td>NaN</td>\n",
       "      <td>NaN</td>\n",
       "      <td>2015/2016</td>\n",
       "    </tr>\n",
       "    <tr>\n",
       "      <th>3</th>\n",
       "      <td>3</td>\n",
       "      <td>Mehdi Abeid</td>\n",
       "      <td>Midfielder</td>\n",
       "      <td>0</td>\n",
       "      <td>NaN</td>\n",
       "      <td>NaN</td>\n",
       "      <td>0.0</td>\n",
       "      <td>0%</td>\n",
       "      <td>NaN</td>\n",
       "      <td>0.0</td>\n",
       "      <td>...</td>\n",
       "      <td>0.0</td>\n",
       "      <td>NaN</td>\n",
       "      <td>NaN</td>\n",
       "      <td>NaN</td>\n",
       "      <td>NaN</td>\n",
       "      <td>NaN</td>\n",
       "      <td>NaN</td>\n",
       "      <td>NaN</td>\n",
       "      <td>NaN</td>\n",
       "      <td>2015/2016</td>\n",
       "    </tr>\n",
       "    <tr>\n",
       "      <th>4</th>\n",
       "      <td>4</td>\n",
       "      <td>Tammy Abraham</td>\n",
       "      <td>Forward</td>\n",
       "      <td>2</td>\n",
       "      <td>NaN</td>\n",
       "      <td>NaN</td>\n",
       "      <td>0.0</td>\n",
       "      <td>NaN</td>\n",
       "      <td>NaN</td>\n",
       "      <td>1.0</td>\n",
       "      <td>...</td>\n",
       "      <td>0.0</td>\n",
       "      <td>NaN</td>\n",
       "      <td>NaN</td>\n",
       "      <td>NaN</td>\n",
       "      <td>NaN</td>\n",
       "      <td>NaN</td>\n",
       "      <td>NaN</td>\n",
       "      <td>NaN</td>\n",
       "      <td>NaN</td>\n",
       "      <td>2015/2016</td>\n",
       "    </tr>\n",
       "  </tbody>\n",
       "</table>\n",
       "<p>5 rows × 55 columns</p>\n",
       "</div>"
      ],
      "text/plain": [
       "   Unnamed: 0                Name    Position  Appearances  Clean sheets  \\\n",
       "0           0     Rolando Aarons   Midfielder           10           NaN   \n",
       "1           1         Almen Abdi   Midfielder           32           NaN   \n",
       "2           2  Abdul Rahman Baba     Defender           15           2.0   \n",
       "3           3        Mehdi Abeid   Midfielder            0           NaN   \n",
       "4           4      Tammy Abraham      Forward            2           NaN   \n",
       "\n",
       "   Goals conceded  Tackles Tackle success %  Last man tackles  Blocked shots  \\\n",
       "0             NaN     13.0              77%               NaN            0.0   \n",
       "1             NaN     83.0              78%               NaN           10.0   \n",
       "2            13.0     47.0              83%               0.0            1.0   \n",
       "3             NaN      0.0               0%               NaN            0.0   \n",
       "4             NaN      0.0              NaN               NaN            1.0   \n",
       "\n",
       "   ...  Big chances missed  Saves  Penalties saved  Punches  High Claims  \\\n",
       "0  ...                 0.0    NaN              NaN      NaN          NaN   \n",
       "1  ...                 1.0    NaN              NaN      NaN          NaN   \n",
       "2  ...                 NaN    NaN              NaN      NaN          NaN   \n",
       "3  ...                 0.0    NaN              NaN      NaN          NaN   \n",
       "4  ...                 0.0    NaN              NaN      NaN          NaN   \n",
       "\n",
       "   Catches  Sweeper clearances  Throw outs  Goal Kicks       Year  \n",
       "0      NaN                 NaN         NaN         NaN  2015/2016  \n",
       "1      NaN                 NaN         NaN         NaN  2015/2016  \n",
       "2      NaN                 NaN         NaN         NaN  2015/2016  \n",
       "3      NaN                 NaN         NaN         NaN  2015/2016  \n",
       "4      NaN                 NaN         NaN         NaN  2015/2016  \n",
       "\n",
       "[5 rows x 55 columns]"
      ]
     },
     "execution_count": 5,
     "metadata": {},
     "output_type": "execute_result"
    }
   ],
   "source": [
    "pl15.head()"
   ]
  },
  {
   "cell_type": "code",
   "execution_count": null,
   "id": "24d9b58c-cd09-4b2a-90e5-16b4425ef3ec",
   "metadata": {
    "collapsed": true,
    "jupyter": {
     "outputs_hidden": true
    },
    "tags": []
   },
   "outputs": [
    {
     "data": {
      "text/html": [
       "<div>\n",
       "<style scoped>\n",
       "    .dataframe tbody tr th:only-of-type {\n",
       "        vertical-align: middle;\n",
       "    }\n",
       "\n",
       "    .dataframe tbody tr th {\n",
       "        vertical-align: top;\n",
       "    }\n",
       "\n",
       "    .dataframe thead th {\n",
       "        text-align: right;\n",
       "    }\n",
       "</style>\n",
       "<table border=\"1\" class=\"dataframe\">\n",
       "  <thead>\n",
       "    <tr style=\"text-align: right;\">\n",
       "      <th></th>\n",
       "      <th>Unnamed: 0</th>\n",
       "      <th>Name</th>\n",
       "      <th>Position</th>\n",
       "      <th>Appearances</th>\n",
       "      <th>Clean sheets</th>\n",
       "      <th>Goals conceded</th>\n",
       "      <th>Tackles</th>\n",
       "      <th>Tackle success %</th>\n",
       "      <th>Last man tackles</th>\n",
       "      <th>Blocked shots</th>\n",
       "      <th>...</th>\n",
       "      <th>Punches</th>\n",
       "      <th>High Claims</th>\n",
       "      <th>Catches</th>\n",
       "      <th>Sweeper clearances</th>\n",
       "      <th>Throw outs</th>\n",
       "      <th>Goal Kicks</th>\n",
       "      <th>Year</th>\n",
       "      <th>Goals Conceded</th>\n",
       "      <th>Big Chances Created</th>\n",
       "      <th>Penalties Saved</th>\n",
       "    </tr>\n",
       "  </thead>\n",
       "  <tbody>\n",
       "    <tr>\n",
       "      <th>0</th>\n",
       "      <td>0</td>\n",
       "      <td>Rolando Aarons</td>\n",
       "      <td>Midfielder</td>\n",
       "      <td>10</td>\n",
       "      <td>NaN</td>\n",
       "      <td>NaN</td>\n",
       "      <td>13.0</td>\n",
       "      <td>77%</td>\n",
       "      <td>NaN</td>\n",
       "      <td>0.0</td>\n",
       "      <td>...</td>\n",
       "      <td>NaN</td>\n",
       "      <td>NaN</td>\n",
       "      <td>NaN</td>\n",
       "      <td>NaN</td>\n",
       "      <td>NaN</td>\n",
       "      <td>NaN</td>\n",
       "      <td>2015/2016</td>\n",
       "      <td>NaN</td>\n",
       "      <td>NaN</td>\n",
       "      <td>NaN</td>\n",
       "    </tr>\n",
       "    <tr>\n",
       "      <th>1</th>\n",
       "      <td>1</td>\n",
       "      <td>Almen Abdi</td>\n",
       "      <td>Midfielder</td>\n",
       "      <td>32</td>\n",
       "      <td>NaN</td>\n",
       "      <td>NaN</td>\n",
       "      <td>83.0</td>\n",
       "      <td>78%</td>\n",
       "      <td>NaN</td>\n",
       "      <td>10.0</td>\n",
       "      <td>...</td>\n",
       "      <td>NaN</td>\n",
       "      <td>NaN</td>\n",
       "      <td>NaN</td>\n",
       "      <td>NaN</td>\n",
       "      <td>NaN</td>\n",
       "      <td>NaN</td>\n",
       "      <td>2015/2016</td>\n",
       "      <td>NaN</td>\n",
       "      <td>NaN</td>\n",
       "      <td>NaN</td>\n",
       "    </tr>\n",
       "    <tr>\n",
       "      <th>2</th>\n",
       "      <td>2</td>\n",
       "      <td>Abdul Rahman Baba</td>\n",
       "      <td>Defender</td>\n",
       "      <td>15</td>\n",
       "      <td>2.0</td>\n",
       "      <td>13.0</td>\n",
       "      <td>47.0</td>\n",
       "      <td>83%</td>\n",
       "      <td>0.0</td>\n",
       "      <td>1.0</td>\n",
       "      <td>...</td>\n",
       "      <td>NaN</td>\n",
       "      <td>NaN</td>\n",
       "      <td>NaN</td>\n",
       "      <td>NaN</td>\n",
       "      <td>NaN</td>\n",
       "      <td>NaN</td>\n",
       "      <td>2015/2016</td>\n",
       "      <td>NaN</td>\n",
       "      <td>NaN</td>\n",
       "      <td>NaN</td>\n",
       "    </tr>\n",
       "    <tr>\n",
       "      <th>3</th>\n",
       "      <td>3</td>\n",
       "      <td>Mehdi Abeid</td>\n",
       "      <td>Midfielder</td>\n",
       "      <td>0</td>\n",
       "      <td>NaN</td>\n",
       "      <td>NaN</td>\n",
       "      <td>0.0</td>\n",
       "      <td>0%</td>\n",
       "      <td>NaN</td>\n",
       "      <td>0.0</td>\n",
       "      <td>...</td>\n",
       "      <td>NaN</td>\n",
       "      <td>NaN</td>\n",
       "      <td>NaN</td>\n",
       "      <td>NaN</td>\n",
       "      <td>NaN</td>\n",
       "      <td>NaN</td>\n",
       "      <td>2015/2016</td>\n",
       "      <td>NaN</td>\n",
       "      <td>NaN</td>\n",
       "      <td>NaN</td>\n",
       "    </tr>\n",
       "    <tr>\n",
       "      <th>4</th>\n",
       "      <td>4</td>\n",
       "      <td>Tammy Abraham</td>\n",
       "      <td>Forward</td>\n",
       "      <td>2</td>\n",
       "      <td>NaN</td>\n",
       "      <td>NaN</td>\n",
       "      <td>0.0</td>\n",
       "      <td>NaN</td>\n",
       "      <td>NaN</td>\n",
       "      <td>1.0</td>\n",
       "      <td>...</td>\n",
       "      <td>NaN</td>\n",
       "      <td>NaN</td>\n",
       "      <td>NaN</td>\n",
       "      <td>NaN</td>\n",
       "      <td>NaN</td>\n",
       "      <td>NaN</td>\n",
       "      <td>2015/2016</td>\n",
       "      <td>NaN</td>\n",
       "      <td>NaN</td>\n",
       "      <td>NaN</td>\n",
       "    </tr>\n",
       "  </tbody>\n",
       "</table>\n",
       "<p>5 rows × 58 columns</p>\n",
       "</div>"
      ],
      "text/plain": [
       "   Unnamed: 0                Name    Position  Appearances  Clean sheets  \\\n",
       "0           0     Rolando Aarons   Midfielder           10           NaN   \n",
       "1           1         Almen Abdi   Midfielder           32           NaN   \n",
       "2           2  Abdul Rahman Baba     Defender           15           2.0   \n",
       "3           3        Mehdi Abeid   Midfielder            0           NaN   \n",
       "4           4      Tammy Abraham      Forward            2           NaN   \n",
       "\n",
       "   Goals conceded  Tackles Tackle success %  Last man tackles  Blocked shots  \\\n",
       "0             NaN     13.0              77%               NaN            0.0   \n",
       "1             NaN     83.0              78%               NaN           10.0   \n",
       "2            13.0     47.0              83%               0.0            1.0   \n",
       "3             NaN      0.0               0%               NaN            0.0   \n",
       "4             NaN      0.0              NaN               NaN            1.0   \n",
       "\n",
       "   ...  Punches  High Claims  Catches  Sweeper clearances  Throw outs  \\\n",
       "0  ...      NaN          NaN      NaN                 NaN         NaN   \n",
       "1  ...      NaN          NaN      NaN                 NaN         NaN   \n",
       "2  ...      NaN          NaN      NaN                 NaN         NaN   \n",
       "3  ...      NaN          NaN      NaN                 NaN         NaN   \n",
       "4  ...      NaN          NaN      NaN                 NaN         NaN   \n",
       "\n",
       "   Goal Kicks       Year  Goals Conceded  Big Chances Created  Penalties Saved  \n",
       "0         NaN  2015/2016             NaN                  NaN              NaN  \n",
       "1         NaN  2015/2016             NaN                  NaN              NaN  \n",
       "2         NaN  2015/2016             NaN                  NaN              NaN  \n",
       "3         NaN  2015/2016             NaN                  NaN              NaN  \n",
       "4         NaN  2015/2016             NaN                  NaN              NaN  \n",
       "\n",
       "[5 rows x 58 columns]"
      ]
     },
     "execution_count": 6,
     "metadata": {},
     "output_type": "execute_result"
    }
   ],
   "source": [
    "pl_15to20.head()"
   ]
  },
  {
   "cell_type": "markdown",
   "id": "ed950596-fccc-4560-9adc-83c19ae37d86",
   "metadata": {
    "tags": []
   },
   "source": [
    "<h1>Leicester City, Season 2015-2016</h1>\n",
    "\n",
    "The Premier League is one of the world's most entertaining leagues. They have some of the best managers, players and fans! But, what makes it truly entertaining is the sheer unpredictability. There are 6 equally amazing teams with a different team lifting the trophy every season. Not only that, the league has also witnessed victories from outside teams of the top 6. So, let us analyze some of these instances.\n",
    "\n",
    "Leicester City ended up winning the title in the 2015/16 season when literally nobody expected to see it. The odds of them winning the title at the start of the 2015/16 was 5000/1! \n",
    "\n",
    "However, it happened. Let us look at some of the numbers and assess how they managed this feat.\n",
    "    \n",
    "<center><img src=\"leicester.jpg\" style=\"vertical-align: center\" width =\"500\" height=500 ></center>"
   ]
  },
  {
   "cell_type": "code",
   "execution_count": 7,
   "id": "9a5f0368-11ee-4fdd-a73b-e282ec6a6760",
   "metadata": {},
   "outputs": [
    {
     "data": {
      "text/plain": [
       "<AxesSubplot:title={'center':'Top 5 Goal Scorers 2015-2016'}, xlabel='Name'>"
      ]
     },
     "execution_count": 7,
     "metadata": {},
     "output_type": "execute_result"
    },
    {
     "data": {
      "image/png": "[encoded data removed]",
      "text/plain": [
       "<Figure size 432x288 with 1 Axes>"
      ]
     },
     "metadata": {
      "needs_background": "light"
     },
     "output_type": "display_data"
    }
   ],
   "source": [
    "#Removing the players that didn't have a single match in this season and then finding top 5 goalsoccers\n",
    "\n",
    "pl15 = pl15[pl15['Appearances']!=0]\n",
    "\n",
    "pl15_goalscorer = pl15.nlargest(5, ['Goals'])\n",
    "pl15_goalscorer.plot(kind = 'bar', x='Name', y='Goals', title='Top 5 Goal Scorers 2015-2016')"
   ]
  },
  {
   "cell_type": "code",
   "execution_count": 8,
   "id": "993008b9-63e0-4850-ad0a-2266fff36180",
   "metadata": {
    "tags": []
   },
   "outputs": [
    {
     "data": {
      "text/plain": [
       "<AxesSubplot:title={'center':'Top 5 Playmakers 2015-2016'}, xlabel='Name'>"
      ]
     },
     "execution_count": 8,
     "metadata": {},
     "output_type": "execute_result"
    },
    {
     "data": {
      "image/png": "[encoded data removed]",
      "text/plain": [
       "<Figure size 432x288 with 1 Axes>"
      ]
     },
     "metadata": {
      "needs_background": "light"
     },
     "output_type": "display_data"
    }
   ],
   "source": [
    "pl15_playmakers = pl15.nlargest(5, ['Assists'])\n",
    "\n",
    "pl15_playmakers.plot(kind='bar', x='Name', y='Assists', title='Top 5 Playmakers 2015-2016')"
   ]
  },
  {
   "cell_type": "markdown",
   "id": "eba40ad0-dee8-4f55-8a56-0cb55bdcce3b",
   "metadata": {},
   "source": [
    "**Riyad Mahrez** appeared not only in Top 5 Scorers but also in Top 5 playmakers, he was the key player for the magic championship of *Leicester City* in season 2015-2016. For the bigger picture, let's take a look at goal involvements (goals + assists)"
   ]
  },
  {
   "cell_type": "code",
   "execution_count": 9,
   "id": "f3c0b8df-07f2-4197-bdc8-827015a63f95",
   "metadata": {},
   "outputs": [
    {
     "data": {
      "text/plain": [
       "<AxesSubplot:title={'center':'Top 5 Player Had Most Involvements 2015-2016'}, xlabel='Name'>"
      ]
     },
     "execution_count": 9,
     "metadata": {},
     "output_type": "execute_result"
    },
    {
     "data": {
      "image/png": "[encoded data removed]",
      "text/plain": [
       "<Figure size 432x288 with 1 Axes>"
      ]
     },
     "metadata": {
      "needs_background": "light"
     },
     "output_type": "display_data"
    }
   ],
   "source": [
    "#Creating 'Involvemnts' coloumn for season 15-16\n",
    "pl15['Involvements'] = pl15['Goals'] + pl15['Assists']\n",
    "\n",
    "pl15_top_involvements = pl15.nlargest(5, 'Involvements')\n",
    "pl15_top_involvements.plot(kind='bar', x='Name', y='Involvements', title='Top 5 Player Had Most Involvements 2015-2016')"
   ]
  },
  {
   "cell_type": "markdown",
   "id": "a118291c-ac2f-427b-8e5a-81bf3095cd64",
   "metadata": {},
   "source": [
    "<center><img src=\"vardymahrez.jpg\" style=\"vertical-align: center\" width =\"500\" height=500 ></center>\n",
    "\n",
    "**Jamie Vardy** with 30 goal involvements followed by **Riyad Mahrez** with 28. This reveals a major reason why *Leicester City* won the Premier League.\n",
    "\n",
    "But, scoring goals was not enough for winning the title. Let us check some statistics of another best player of *Leicester City* - **N'Golo Kante**"
   ]
  },
  {
   "cell_type": "code",
   "execution_count": 10,
   "id": "10b13850-a04a-45d8-83df-b31827cd5d2d",
   "metadata": {},
   "outputs": [
    {
     "name": "stdout",
     "output_type": "stream",
     "text": [
      "                Name  Interceptions\n",
      "367    N'Golo Kanté           156.0\n",
      "285   Idrissa Gueye           141.0\n",
      "108    Yohan Cabaye           120.0\n",
      "746   Claudio Yacob           118.0\n",
      "662   Andrew Surman           109.0\n",
      "422     Yann M'Vila            86.0\n",
      "154       Jack Cork            83.0\n",
      "498      Mark Noble            83.0\n",
      "115  Etienne Capoue            82.0\n",
      "191       Eric Dier            80.0 \n",
      "\n",
      "                   Name  Tackles\n",
      "367       N'Golo Kanté     175.0\n",
      "285      Idrissa Gueye     144.0\n",
      "418        Lucas Leiva     108.0\n",
      "746      Claudio Yacob     108.0\n",
      "108       Yohan Cabaye     107.0\n",
      "206  Daniel Drinkwater     106.0\n",
      "231        Fernandinho     105.0\n",
      "184      Mousa Dembélé     104.0\n",
      "223      Cesc Fàbregas     103.0\n",
      "498         Mark Noble     103.0 \n",
      "\n",
      "                  Name  Duels won\n",
      "285     Idrissa Gueye       295.0\n",
      "367      N'Golo Kanté       277.0\n",
      "56       Ross Barkley       250.0\n",
      "184     Mousa Dembélé       249.0\n",
      "388  Cheikhou Kouyaté       248.0\n",
      "115    Etienne Capoue       235.0\n",
      "635    Moussa Sissoko       221.0\n",
      "92       Robbie Brady       211.0\n",
      "231       Fernandinho       210.0\n",
      "154         Jack Cork       209.0 \n",
      "\n"
     ]
    }
   ],
   "source": [
    "#Selecting Midfielder season 15-16\n",
    "midfielder15 = pl15[pl15['Position']=='Midfielder']\n",
    "\n",
    "interceptions = midfielder15.nlargest(10, 'Interceptions')[['Name','Interceptions']]\n",
    "tackles = midfielder15.nlargest(10, 'Tackles')[['Name','Tackles']]\n",
    "duels_won = midfielder15.nlargest(10, 'Duels won')[['Name','Duels won']]\n",
    "\n",
    "for i in [interceptions, tackles, duels_won]:\n",
    "    print(i, \"\\n\")\n"
   ]
  },
  {
   "cell_type": "markdown",
   "id": "71429193-1450-422e-91e2-398bfdfe435f",
   "metadata": {},
   "source": [
    "As we can see from the above output, Kante is\n",
    "    \n",
    "    #1 in the league for Interceptions\n",
    "    #1 in the league for Tackles\n",
    "    #2 in the league for Duels Won\n",
    "    \n",
    "Those are some incredible numbers from the defensive midfielder. His contribution is very clear from this.\n",
    "\n",
    "<center><img src=\"kante.png\" style=\"vertical-align: center\" width =\"500\" height=500 ></center>\n",
    "\n",
    "While we could just look at Clean Sheets, it may not tell us the whole story. While it's true that more Clean Sheets mean a strong defensive performance, but it doesn't give you details about how many goals were conceded in the other games. More goals conceded in one game reflects on a poor defense. \n",
    "\n",
    "Therefore, a stat about \"number of goals conceded per game\" will tell the whole story. But it is important to make sure that the defender has enough appearances. For instance, a defender with only 1 appearance and got 0 goal conceded will have a great \"goals conceded per game\" stat. However, this player didn't play enough game to be considered."
   ]
  },
  {
   "cell_type": "code",
   "execution_count": 11,
   "id": "87598573-144e-47e4-9579-74c0ba642a4a",
   "metadata": {},
   "outputs": [
    {
     "data": {
      "text/plain": [
       "<AxesSubplot:title={'center':'Top Least Goals Conceded Per Game'}, xlabel='Name'>"
      ]
     },
     "execution_count": 11,
     "metadata": {},
     "output_type": "execute_result"
    },
    {
     "data": {
      "image/png": "[encoded data removed]",
      "text/plain": [
       "<Figure size 432x288 with 1 Axes>"
      ]
     },
     "metadata": {
      "needs_background": "light"
     },
     "output_type": "display_data"
    }
   ],
   "source": [
    "#Selecting defenders of season 2015-2016\n",
    "pl15_defenders = pl15[pl15['Position']=='Defender']\n",
    "\n",
    "#Selecting defenders that play greater than or equal to 30 match and making a new column 'Conceded per game'(goals conceded/appearances)\n",
    "top_def_stats = pl15_defenders[pl15_defenders['Appearances']>=30]\n",
    "\n",
    "top_def_stats['Conceded per game'] = top_def_stats['Goals conceded']/top_def_stats['Appearances']\n",
    "least_conceded = top_def_stats.nsmallest(5, 'Conceded per game')\n",
    "\n",
    "least_conceded.plot(kind='bar', x='Name', y='Conceded per game', title='Top Least Goals Conceded Per Game')"
   ]
  },
  {
   "cell_type": "markdown",
   "id": "9774d1b8-e424-4651-a6ed-288f53a1a622",
   "metadata": {},
   "source": [
    "<center><img src=\"fuchhuth.jpg\" style=\"vertical-align: center\" width =\"500\" height=500 ></center>\n",
    "\n",
    "We clearly see that **Christian Fuchs** and **Robert Hutch** named in the list of top 5 defenders that have the least goals conceded per games at 0,6 and approximate 0.9 respectively. They both came from *Leicester City* which is the championship of this season.\n",
    "\n",
    "Now, let's briefly look at *Leicester City*'s goalkeeper - Kasper Schmeichel who were also the captain of the team."
   ]
  },
  {
   "cell_type": "code",
   "execution_count": 12,
   "id": "8b5d7f57-9613-4777-96ca-e3539b41383f",
   "metadata": {},
   "outputs": [
    {
     "data": {
      "text/html": [
       "<div>\n",
       "<style scoped>\n",
       "    .dataframe tbody tr th:only-of-type {\n",
       "        vertical-align: middle;\n",
       "    }\n",
       "\n",
       "    .dataframe tbody tr th {\n",
       "        vertical-align: top;\n",
       "    }\n",
       "\n",
       "    .dataframe thead th {\n",
       "        text-align: right;\n",
       "    }\n",
       "</style>\n",
       "<table border=\"1\" class=\"dataframe\">\n",
       "  <thead>\n",
       "    <tr style=\"text-align: right;\">\n",
       "      <th></th>\n",
       "      <th>Unnamed: 0</th>\n",
       "      <th>Name</th>\n",
       "      <th>Position</th>\n",
       "      <th>Appearances</th>\n",
       "      <th>Clean sheets</th>\n",
       "      <th>Goals conceded</th>\n",
       "      <th>Tackles</th>\n",
       "      <th>Tackle success %</th>\n",
       "      <th>Last man tackles</th>\n",
       "      <th>Blocked shots</th>\n",
       "      <th>...</th>\n",
       "      <th>Saves</th>\n",
       "      <th>Penalties saved</th>\n",
       "      <th>Punches</th>\n",
       "      <th>High Claims</th>\n",
       "      <th>Catches</th>\n",
       "      <th>Sweeper clearances</th>\n",
       "      <th>Throw outs</th>\n",
       "      <th>Goal Kicks</th>\n",
       "      <th>Year</th>\n",
       "      <th>Involvements</th>\n",
       "    </tr>\n",
       "  </thead>\n",
       "  <tbody>\n",
       "    <tr>\n",
       "      <th>614</th>\n",
       "      <td>614</td>\n",
       "      <td>Kasper Schmeichel</td>\n",
       "      <td>Goalkeeper</td>\n",
       "      <td>38</td>\n",
       "      <td>15.0</td>\n",
       "      <td>36.0</td>\n",
       "      <td>NaN</td>\n",
       "      <td>NaN</td>\n",
       "      <td>NaN</td>\n",
       "      <td>NaN</td>\n",
       "      <td>...</td>\n",
       "      <td>99.0</td>\n",
       "      <td>0.0</td>\n",
       "      <td>22.0</td>\n",
       "      <td>47.0</td>\n",
       "      <td>15.0</td>\n",
       "      <td>46.0</td>\n",
       "      <td>82.0</td>\n",
       "      <td>324.0</td>\n",
       "      <td>2015/2016</td>\n",
       "      <td>0</td>\n",
       "    </tr>\n",
       "  </tbody>\n",
       "</table>\n",
       "<p>1 rows × 56 columns</p>\n",
       "</div>"
      ],
      "text/plain": [
       "     Unnamed: 0                Name    Position  Appearances  Clean sheets  \\\n",
       "614         614  Kasper Schmeichel   Goalkeeper           38          15.0   \n",
       "\n",
       "     Goals conceded  Tackles Tackle success %  Last man tackles  \\\n",
       "614            36.0      NaN              NaN               NaN   \n",
       "\n",
       "     Blocked shots  ...  Saves  Penalties saved  Punches  High Claims  \\\n",
       "614            NaN  ...   99.0              0.0     22.0         47.0   \n",
       "\n",
       "     Catches  Sweeper clearances  Throw outs  Goal Kicks       Year  \\\n",
       "614     15.0                46.0        82.0       324.0  2015/2016   \n",
       "\n",
       "     Involvements  \n",
       "614             0  \n",
       "\n",
       "[1 rows x 56 columns]"
      ]
     },
     "execution_count": 12,
     "metadata": {},
     "output_type": "execute_result"
    }
   ],
   "source": [
    "pl15_goalkeepers = pl15[pl15['Position']=='Goalkeeper']\n",
    "\n",
    "pl15_goalkeepers[pl15_goalkeepers ['Name']=='Kasper Schmeichel ']"
   ]
  },
  {
   "cell_type": "markdown",
   "id": "f201bbcd-70e6-4401-b6f0-a2563dffcfe6",
   "metadata": {},
   "source": [
    "We can see that he had 38 appearances. Let's compare him with other goalkeepers having similar appearances."
   ]
  },
  {
   "cell_type": "code",
   "execution_count": 13,
   "id": "46007318-8d28-42d1-ac9e-bef3cc661276",
   "metadata": {},
   "outputs": [
    {
     "data": {
      "text/html": [
       "<div>\n",
       "<style scoped>\n",
       "    .dataframe tbody tr th:only-of-type {\n",
       "        vertical-align: middle;\n",
       "    }\n",
       "\n",
       "    .dataframe tbody tr th {\n",
       "        vertical-align: top;\n",
       "    }\n",
       "\n",
       "    .dataframe thead th {\n",
       "        text-align: right;\n",
       "    }\n",
       "</style>\n",
       "<table border=\"1\" class=\"dataframe\">\n",
       "  <thead>\n",
       "    <tr style=\"text-align: right;\">\n",
       "      <th></th>\n",
       "      <th>Name</th>\n",
       "      <th>Appearances</th>\n",
       "      <th>Clean sheets</th>\n",
       "      <th>Goals conceded</th>\n",
       "      <th>Saves</th>\n",
       "    </tr>\n",
       "  </thead>\n",
       "  <tbody>\n",
       "    <tr>\n",
       "      <th>222</th>\n",
       "      <td>Lukasz Fabianski</td>\n",
       "      <td>37</td>\n",
       "      <td>9.0</td>\n",
       "      <td>51.0</td>\n",
       "      <td>115.0</td>\n",
       "    </tr>\n",
       "    <tr>\n",
       "      <th>302</th>\n",
       "      <td>Heurelho Gomes</td>\n",
       "      <td>38</td>\n",
       "      <td>11.0</td>\n",
       "      <td>49.0</td>\n",
       "      <td>121.0</td>\n",
       "    </tr>\n",
       "    <tr>\n",
       "      <th>413</th>\n",
       "      <td>Hugo Lloris</td>\n",
       "      <td>37</td>\n",
       "      <td>13.0</td>\n",
       "      <td>34.0</td>\n",
       "      <td>88.0</td>\n",
       "    </tr>\n",
       "    <tr>\n",
       "      <th>614</th>\n",
       "      <td>Kasper Schmeichel</td>\n",
       "      <td>38</td>\n",
       "      <td>15.0</td>\n",
       "      <td>36.0</td>\n",
       "      <td>99.0</td>\n",
       "    </tr>\n",
       "  </tbody>\n",
       "</table>\n",
       "</div>"
      ],
      "text/plain": [
       "                   Name  Appearances  Clean sheets  Goals conceded  Saves\n",
       "222   Lukasz Fabianski            37           9.0            51.0  115.0\n",
       "302     Heurelho Gomes            38          11.0            49.0  121.0\n",
       "413        Hugo Lloris            37          13.0            34.0   88.0\n",
       "614  Kasper Schmeichel            38          15.0            36.0   99.0"
      ]
     },
     "execution_count": 13,
     "metadata": {},
     "output_type": "execute_result"
    }
   ],
   "source": [
    "pl15_goalkeepers = pl15_goalkeepers[pl15_goalkeepers['Appearances']>=36]\n",
    "\n",
    "pl15_goalkeepers[['Name','Appearances','Clean sheets', 'Goals conceded','Saves']]"
   ]
  },
  {
   "cell_type": "markdown",
   "id": "cca09016-b18f-40b9-9511-ce27d0f2a877",
   "metadata": {},
   "source": [
    "Although **Hugo Lloris** had 2 fewer clean sheets and 2 goals conceded, he played one less appeareance than **Kasper Schmeichel**\n",
    "\n",
    "Therefore, we can conclude that Manager **Claudio Ranieri** , with his incredibly balanced and consistent squad lead *Leicester City* to the EPL Championship for the first time.\n",
    "\n",
    "<center><img src=\"kasper.jpg\" style=\"vertical-align: center\" width =\"500\" height=500 ></center>"
   ]
  },
  {
   "cell_type": "markdown",
   "id": "67e77372-9734-42c9-9964-681af50e65eb",
   "metadata": {},
   "source": [
    "<h1>Liverpool's road to become champion!</h1>\n",
    "\n",
    "In the 2019-2020 season, *Liverpool* won the championship after 30 years of waiting. To get this championship, great merit belongs to the coach, the attacking trio and 2 valuable contracts.\n",
    "<center><img src=\"liver.png\" style=\"vertical-align: center\" width =\"500\" height=500 ></center>\n",
    "\n",
    "\n",
    "\n",
    "<h1>Amazing 3: Salah, Mane, Firmino</h1>\n",
    "\n",
    "<center><img src=\"trio.jpg\" style=\"vertical-align: center\" width =\"500\" height=500 ></center>"
   ]
  },
  {
   "cell_type": "code",
   "execution_count": 14,
   "id": "e029b73f-e168-424e-bf25-c9b4dae47f1a",
   "metadata": {},
   "outputs": [],
   "source": [
    "salah17 = pl17[pl17['Name']=='Mohamed Salah ']\n",
    "firmino17 = pl17[pl17['Name']=='Roberto Firmino ']\n",
    "mane17 = pl17[pl17['Name']=='Sadio Mané ']\n",
    "\n",
    "liver_trios17 = pd.concat([salah17, mane17, firmino17])\n",
    "\n",
    "#################################################################\n",
    "\n",
    "salah18 = pl18[pl18['Name']=='Mohamed Salah ']\n",
    "firmino18 = pl18[pl18['Name']=='Roberto Firmino ']\n",
    "mane18 = pl18[pl18['Name']=='Sadio Mané ']\n",
    "\n",
    "liver_trios18 = pd.concat([salah18, mane18, firmino18])\n",
    "\n",
    "#################################################################\n",
    "\n",
    "salah19 = pl19[pl19['Name']=='Mohamed Salah ']\n",
    "firmino19 = pl19[pl19['Name']=='Roberto Firmino ']\n",
    "mane19 = pl19[pl19['Name']=='Sadio Mané ']\n",
    "\n",
    "liver_trios19 = pd.concat([salah19, mane19, firmino19])"
   ]
  },
  {
   "cell_type": "code",
   "execution_count": 15,
   "id": "f3c94ab2-cb11-41c8-a826-24fda5896cc8",
   "metadata": {},
   "outputs": [
    {
     "name": "stdout",
     "output_type": "stream",
     "text": [
      "\n",
      "\t2017-2018\n",
      "\n",
      "                 Name  Goals\n",
      "504    Mohamed Salah      32\n",
      "452       Sadio Mané      10\n",
      "623  Roberto Firmino      15\n",
      "\n",
      "\t\t  Total = 57\n",
      "\n",
      "-----------------------------------------------------------\n",
      "\n",
      "\t2018-2019\n",
      "\n",
      "                 Name  Goals\n",
      "566    Mohamed Salah      22\n",
      "509       Sadio Mané      22\n",
      "690  Roberto Firmino      12\n",
      "\n",
      "\t\t  Total = 56\n",
      "\n",
      "-----------------------------------------------------------\n",
      "\n",
      "\t2019-2020\n",
      "\n",
      "                 Name  Goals\n",
      "623    Mohamed Salah      19\n",
      "560       Sadio Mané      18\n",
      "758  Roberto Firmino       9\n",
      "\n",
      "\t\t  Total = 46\n",
      "\n",
      "-----------------------------------------------------------\n",
      "<seaborn.axisgrid.FacetGrid object at 0x0000022354261E80>\n"
     ]
    },
    {
     "data": {
      "image/png": "[encoded data removed]",
      "text/plain": [
       "<Figure size 479.25x360 with 1 Axes>"
      ]
     },
     "metadata": {
      "needs_background": "light"
     },
     "output_type": "display_data"
    }
   ],
   "source": [
    "liver_trios = pd.concat([liver_trios17, liver_trios18, liver_trios19])\n",
    "\n",
    "liver_plot = sb.catplot(x='Year', y='Goals', hue='Name', kind='bar' ,data=liver_trios)\n",
    "liver_plot.fig.suptitle('Goals of Salah, Mane, Firmino by Season')\n",
    "\n",
    "year1 = 2017\n",
    "year2 = 2018\n",
    "\n",
    "for i in [liver_trios17, liver_trios18, liver_trios19]:\n",
    "    print(\"\\n\\t{}-{}\\n\\n{}\\n\\n\\t\\t  Total = {}\".format(year1, year2, i[['Name', 'Goals']], i['Goals'].sum()))\n",
    "    print(\"\\n-----------------------------------------------------------\")\n",
    "    year1+=1\n",
    "    year2+=1\n",
    "    \n",
    "print(liver_plot)"
   ]
  },
  {
   "cell_type": "markdown",
   "id": "39182dbf-f1a9-4f15-9e44-ba25da7731ef",
   "metadata": {},
   "source": [
    "We can see that there is a decline trend in the number of goals scored. They fell from 57 goals to 46 goals, but the team jumped 3 positions in period to win the title.\n",
    "<br>\n",
    "\n",
    "This is said to be because of the balanced tatic *Liverpool* chose to adopt after season 2017-2018.\n",
    "<br>\n",
    "\n",
    "<h1>Defensive Strength</h1>\n",
    "\n",
    "*Liverpool* signed **Virgil Van Dijk** in a winter transfer of 2018 for 75 million pounds which made him become the most expensive defender in the world at that time. A large part of *Liverpool*'s recent success has been linked to his transfer as he is said to have dramatically changed *Liverpool*'s defense. \n",
    "\n",
    "Along with him, *Liverpool* bought a goalkeeper from *AS Roma* - **Alisson Becker** - who finally put an end to the goalkeeping problem that *Liverpool* had for many years. Let's take a look at some of stat about their performances.\n",
    "\n",
    "*Liverpool*'s Goalkeepers:<br>\n",
    "2016-2017: **Simon Mignolet**, **Loris Karius**<br>\n",
    "2017-2018: **Simon Mignolet**, **Loris Karius**<br>\n",
    "2018-2019: **Alisson Becker**<br>\n",
    "2019-2020: **Alisson Becker**, **Adrian**<br>\n",
    "\n",
    "<center><img src=\"karius.png\" style=\"vertical-align: center\" width =\"500\" height=500 ></center>"
   ]
  },
  {
   "cell_type": "code",
   "execution_count": 18,
   "id": "8b59173b-63bd-4b96-8eac-4e65c6ac062a",
   "metadata": {},
   "outputs": [
    {
     "name": "stdout",
     "output_type": "stream",
     "text": [
      "\t\t2016-2017 Goalkeeping Stats\n",
      "                Name  Appearances  Clean sheets  Goals conceded\n",
      "531  Simon Mignolet            28           9.0            30.0\n",
      "\n",
      "              Name  Appearances  Clean sheets  Goals conceded\n",
      "413  Loris Karius            10           3.0            12.0\n",
      "\n",
      "\n",
      "Total Clean Sheets = 12.0\n",
      "Total Goals Conceded = 42.0\n",
      "\n",
      "------------------------------------------------------------------------------\n",
      "\n",
      "\t\t2017-2018 Goalkeeping Stats\n",
      "                Name  Appearances  Clean sheets  Goals conceded\n",
      "493  Simon Mignolet            19           7.0            24.0\n",
      "\n",
      "              Name  Appearances  Clean sheets  Goals conceded\n",
      "374  Loris Karius            19          10.0            14.0\n",
      "\n",
      "\n",
      "Total Clean Sheets = 17.0\n",
      "Total Goals Conceded = 38.0\n",
      "\n",
      "------------------------------------------------------------------------------\n",
      "\n",
      "\t\t2018-2019 Goalkeeping Stats\n",
      "        Name  Appearances  Clean sheets  Goals conceded\n",
      "17  Alisson            38          21.0            22.0\n",
      "\n",
      "------------------------------------------------------------------------------\n",
      "\n",
      "\t\t2019-2020 Goalkeeping Stats\n",
      "        Name  Appearances  Clean sheets  Goals conceded\n",
      "22  Alisson            29          13.0            23.0\n",
      "\n",
      "      Name  Appearances  Clean sheets  Goals conceded\n",
      "6  Adrián            11           2.0            10.0\n",
      "\n",
      "\n",
      "Total Clean Sheets = 15.0\n",
      "Total Goals Conceded = 33.0\n"
     ]
    }
   ],
   "source": [
    "mignolet16 = pl16[pl16['Name']=='Simon Mignolet ']\n",
    "karius16 = pl16[pl16['Name']=='Loris Karius ']\n",
    "\n",
    "sum_clean16 = 0\n",
    "sum_conceded16 = 0\n",
    "\n",
    "print(\"\\t\\t2016-2017 Goalkeeping Stats\")\n",
    "for i in [mignolet16, karius16]:\n",
    "    print(\"{}\\n\".format(i[['Name', 'Appearances', 'Clean sheets', 'Goals conceded']]))\n",
    "    sum_clean16 += i['Clean sheets'].item()\n",
    "    sum_conceded16 += i['Goals conceded'].item()\n",
    "\n",
    "print(\"\\nTotal Clean Sheets = {}\\nTotal Goals Conceded = {}\".format(sum_clean16, sum_conceded16))\n",
    "print(\"\\n------------------------------------------------------------------------------\\n\")\n",
    "#################################################################\n",
    "\n",
    "mignolet17 = pl17[pl17['Name']=='Simon Mignolet ']\n",
    "karius17 = pl17[pl17['Name']=='Loris Karius ']\n",
    "\n",
    "sum_clean17 = 0\n",
    "sum_conceded17 = 0\n",
    "\n",
    "print(\"\\t\\t2017-2018 Goalkeeping Stats\")\n",
    "for i in [mignolet17, karius17]:\n",
    "    print(\"{}\\n\".format(i[['Name', 'Appearances', 'Clean sheets', 'Goals conceded']]))\n",
    "    sum_clean17 += i['Clean sheets'].item()\n",
    "    sum_conceded17 += i['Goals conceded'].item()\n",
    "\n",
    "print(\"\\nTotal Clean Sheets = {}\\nTotal Goals Conceded = {}\".format(sum_clean17, sum_conceded17))\n",
    "print(\"\\n------------------------------------------------------------------------------\\n\")\n",
    "#################################################################\n",
    "\n",
    "print(\"\\t\\t2018-2019 Goalkeeping Stats\")\n",
    "alisson18 = pl18[pl18['Name']=='Alisson ']\n",
    "for i in [alisson18]:\n",
    "    print(\"{}\".format(i[['Name', 'Appearances', 'Clean sheets', 'Goals conceded']]))\n",
    "print(\"\\n------------------------------------------------------------------------------\\n\")\n",
    "#################################################################\n",
    "\n",
    "alisson19 = pl19[pl19['Name']=='Alisson ']\n",
    "adrian19 = pl19[pl19['Name']=='Adrián ']\n",
    "\n",
    "sum_clean19 = 0\n",
    "sum_conceded19 = 0\n",
    "\n",
    "print(\"\\t\\t2019-2020 Goalkeeping Stats\")\n",
    "for i in [alisson19, adrian19]:\n",
    "    print(\"{}\\n\".format(i[['Name', 'Appearances', 'Clean sheets', 'Goals conceded']]))\n",
    "    sum_clean19 += i['Clean sheets'].item()\n",
    "    sum_conceded19 += i['Goals conceded'].item()\n",
    "\n",
    "print(\"\\nTotal Clean Sheets = {}\\nTotal Goals Conceded = {}\".format(sum_clean19, sum_conceded19))"
   ]
  },
  {
   "cell_type": "code",
   "execution_count": 17,
   "id": "f7da5536-cdf9-4262-8cf1-1d3ae367f5a1",
   "metadata": {},
   "outputs": [
    {
     "data": {
      "text/plain": [
       "<AxesSubplot:title={'center':'Total Goals Conceded of Liverpool by Season'}, xlabel='Year'>"
      ]
     },
     "execution_count": 17,
     "metadata": {},
     "output_type": "execute_result"
    },
    {
     "data": {
      "image/png": "[encoded data removed]",
      "text/plain": [
       "<Figure size 432x288 with 1 Axes>"
      ]
     },
     "metadata": {
      "needs_background": "light"
     },
     "output_type": "display_data"
    },
    {
     "data": {
      "image/png": "[encoded data removed]",
      "text/plain": [
       "<Figure size 432x288 with 1 Axes>"
      ]
     },
     "metadata": {
      "needs_background": "light"
     },
     "output_type": "display_data"
    }
   ],
   "source": [
    "goalkeeping_stats = pd.DataFrame({\"Clean sheets\": [sum_clean16, sum_clean17, alisson18['Clean sheets'].sum(), sum_clean19],\n",
    "                                 \"Goals conceded\": [sum_conceded16, sum_conceded17, alisson18['Goals conceded'].sum(), sum_conceded19],\n",
    "                                 \"Year\": [\"2016-2017\", \"2017-2018\", \"2018-2019\", \"2019-2020\"]})\n",
    "\n",
    "goalkeeping_stats.plot(kind='bar', x='Year', y='Clean sheets', title = \"Total Clean Sheets of Liverpool by Season\")\n",
    "goalkeeping_stats.plot(kind='bar', x='Year', y='Goals conceded', title = \"Total Goals Conceded of Liverpool by Season\")"
   ]
  },
  {
   "cell_type": "markdown",
   "id": "541d962d-a32a-4477-a8f5-e77d35234584",
   "metadata": {},
   "source": [
    "2 plots above tell us how **Alisson**'s impact in *Liverpool*'s defense. In his first season at *Liverpool*, he ended up with 21 clean sheets and got only 22 goals conceded. That's why he won the Golden Glove this season.\n",
    "<center><img src=\"alisson.jpg\" style=\"vertical-align: center\" width =\"500\" height=500 ></center>"
   ]
  },
  {
   "cell_type": "code",
   "execution_count": 24,
   "id": "26767ada-2f1d-4f27-9072-d059815e9ca4",
   "metadata": {},
   "outputs": [
    {
     "data": {
      "text/html": [
       "<div>\n",
       "<style scoped>\n",
       "    .dataframe tbody tr th:only-of-type {\n",
       "        vertical-align: middle;\n",
       "    }\n",
       "\n",
       "    .dataframe tbody tr th {\n",
       "        vertical-align: top;\n",
       "    }\n",
       "\n",
       "    .dataframe thead th {\n",
       "        text-align: right;\n",
       "    }\n",
       "</style>\n",
       "<table border=\"1\" class=\"dataframe\">\n",
       "  <thead>\n",
       "    <tr style=\"text-align: right;\">\n",
       "      <th></th>\n",
       "      <th>Name</th>\n",
       "      <th>Year</th>\n",
       "      <th>Appearances</th>\n",
       "      <th>Clean sheets</th>\n",
       "      <th>Goals conceded</th>\n",
       "      <th>Tackle success %</th>\n",
       "      <th>Clearances</th>\n",
       "      <th>Headed Clearance</th>\n",
       "      <th>Goals</th>\n",
       "      <th>Assists</th>\n",
       "      <th>Passes per match</th>\n",
       "      <th>Duels won</th>\n",
       "      <th>Interceptions</th>\n",
       "    </tr>\n",
       "  </thead>\n",
       "  <tbody>\n",
       "    <tr>\n",
       "      <th>701</th>\n",
       "      <td>Virgil van Dijk</td>\n",
       "      <td>2015/2016</td>\n",
       "      <td>34</td>\n",
       "      <td>10.0</td>\n",
       "      <td>36.0</td>\n",
       "      <td>75%</td>\n",
       "      <td>260.0</td>\n",
       "      <td>152.0</td>\n",
       "      <td>3</td>\n",
       "      <td>0</td>\n",
       "      <td>40.82</td>\n",
       "      <td>249.0</td>\n",
       "      <td>96.0</td>\n",
       "    </tr>\n",
       "    <tr>\n",
       "      <th>775</th>\n",
       "      <td>Virgil van Dijk</td>\n",
       "      <td>2016/2017</td>\n",
       "      <td>21</td>\n",
       "      <td>7.0</td>\n",
       "      <td>23.0</td>\n",
       "      <td>77%</td>\n",
       "      <td>142.0</td>\n",
       "      <td>85.0</td>\n",
       "      <td>1</td>\n",
       "      <td>0</td>\n",
       "      <td>46.67</td>\n",
       "      <td>159.0</td>\n",
       "      <td>54.0</td>\n",
       "    </tr>\n",
       "    <tr>\n",
       "      <th>731</th>\n",
       "      <td>Virgil van Dijk</td>\n",
       "      <td>2017/2018</td>\n",
       "      <td>26</td>\n",
       "      <td>8.0</td>\n",
       "      <td>28.0</td>\n",
       "      <td>60%</td>\n",
       "      <td>157.0</td>\n",
       "      <td>96.0</td>\n",
       "      <td>0</td>\n",
       "      <td>0</td>\n",
       "      <td>68.08</td>\n",
       "      <td>188.0</td>\n",
       "      <td>47.0</td>\n",
       "    </tr>\n",
       "    <tr>\n",
       "      <th>820</th>\n",
       "      <td>Virgil van Dijk</td>\n",
       "      <td>2018/2019</td>\n",
       "      <td>38</td>\n",
       "      <td>20.0</td>\n",
       "      <td>22.0</td>\n",
       "      <td>74%</td>\n",
       "      <td>199.0</td>\n",
       "      <td>112.0</td>\n",
       "      <td>4</td>\n",
       "      <td>2</td>\n",
       "      <td>79.92</td>\n",
       "      <td>244.0</td>\n",
       "      <td>40.0</td>\n",
       "    </tr>\n",
       "    <tr>\n",
       "      <th>904</th>\n",
       "      <td>Virgil van Dijk</td>\n",
       "      <td>2019/2020</td>\n",
       "      <td>38</td>\n",
       "      <td>15.0</td>\n",
       "      <td>33.0</td>\n",
       "      <td>52%</td>\n",
       "      <td>162.0</td>\n",
       "      <td>83.0</td>\n",
       "      <td>5</td>\n",
       "      <td>1</td>\n",
       "      <td>85.76</td>\n",
       "      <td>239.0</td>\n",
       "      <td>40.0</td>\n",
       "    </tr>\n",
       "    <tr>\n",
       "      <th>798</th>\n",
       "      <td>Virgil van Dijk</td>\n",
       "      <td>2020/2021</td>\n",
       "      <td>5</td>\n",
       "      <td>1.0</td>\n",
       "      <td>NaN</td>\n",
       "      <td>67%</td>\n",
       "      <td>8.0</td>\n",
       "      <td>2.0</td>\n",
       "      <td>1</td>\n",
       "      <td>0</td>\n",
       "      <td>68.20</td>\n",
       "      <td>17.0</td>\n",
       "      <td>5.0</td>\n",
       "    </tr>\n",
       "  </tbody>\n",
       "</table>\n",
       "</div>"
      ],
      "text/plain": [
       "                 Name       Year  Appearances  Clean sheets  Goals conceded  \\\n",
       "701  Virgil van Dijk   2015/2016           34          10.0            36.0   \n",
       "775  Virgil van Dijk   2016/2017           21           7.0            23.0   \n",
       "731  Virgil van Dijk   2017/2018           26           8.0            28.0   \n",
       "820  Virgil van Dijk   2018/2019           38          20.0            22.0   \n",
       "904  Virgil van Dijk   2019/2020           38          15.0            33.0   \n",
       "798  Virgil van Dijk   2020/2021            5           1.0             NaN   \n",
       "\n",
       "    Tackle success %  Clearances  Headed Clearance  Goals  Assists  \\\n",
       "701              75%       260.0             152.0      3        0   \n",
       "775              77%       142.0              85.0      1        0   \n",
       "731              60%       157.0              96.0      0        0   \n",
       "820              74%       199.0             112.0      4        2   \n",
       "904              52%       162.0              83.0      5        1   \n",
       "798              67%         8.0               2.0      1        0   \n",
       "\n",
       "     Passes per match  Duels won  Interceptions  \n",
       "701             40.82      249.0           96.0  \n",
       "775             46.67      159.0           54.0  \n",
       "731             68.08      188.0           47.0  \n",
       "820             79.92      244.0           40.0  \n",
       "904             85.76      239.0           40.0  \n",
       "798             68.20       17.0            5.0  "
      ]
     },
     "execution_count": 24,
     "metadata": {},
     "output_type": "execute_result"
    }
   ],
   "source": [
    "defenders = pl_15to20[pl_15to20['Position']=='Defender']\n",
    "\n",
    "van_dijk = defenders[defenders['Name']=='Virgil van Dijk ']\n",
    "van_dijk[['Name', 'Year', 'Appearances', 'Clean sheets', 'Goals conceded', 'Tackle success %', 'Clearances', 'Headed Clearance',\n",
    "            'Goals', 'Assists', 'Passes per match', 'Duels won', 'Interceptions']]"
   ]
  },
  {
   "cell_type": "markdown",
   "id": "b0d0c3ae-aaab-4231-9abc-f82c9c0b97dc",
   "metadata": {},
   "source": [
    "**Van Dijk**'s attacking, passing, goalscoring dramatically improved after joining *Liverpool* in 2018. However, it didn't affect his defensive skills. Beside his appearance in the second half of season 2017-2018, the goalkeeper in this half was **Loris Karius** who conceded 10 goals fewer and had 3 more clean sheets than his goalkeeping counterpart **Simon Mignolet**.\n",
    "\n",
    "In season 2020-2021, he got a serious injury and had to miss the whole season.\n",
    "\n",
    "<center><img src=\"vandijk.jpg\" style=\"vertical-align: center\" width =\"500\" height=500 ></center>"
   ]
  },
  {
   "cell_type": "code",
   "execution_count": 25,
   "id": "8382eaf1-31ce-4e02-a93b-045c122f8129",
   "metadata": {},
   "outputs": [
    {
     "name": "stdout",
     "output_type": "stream",
     "text": [
      "                Name  Appearances  Clean sheets  Goals conceded\n",
      "493  Simon Mignolet            19           7.0            24.0\n",
      "\n",
      "              Name  Appearances  Clean sheets  Goals conceded\n",
      "374  Loris Karius            19          10.0            14.0\n",
      "\n"
     ]
    }
   ],
   "source": [
    "for i in [mignolet17, karius17]:\n",
    "    print(\"{}\\n\".format(i[['Name', 'Appearances', 'Clean sheets', 'Goals conceded']]))"
   ]
  },
  {
   "cell_type": "markdown",
   "id": "f71cb32a-0724-4590-86a3-cdc5c9cef5dd",
   "metadata": {},
   "source": [
    "<h1>Conclusion</h1>\n",
    "\n",
    "*Leicester City* and *Liverpool* won the league seem very astonishing, but analysis of individual player performances make the story scene. While *Leicester City* had outstanding players in every positions and their stats were significantly higher than the rest, *Liverpool* changed in attacking tatics and their new signings **Virgil van Dijk** and **Alisson Becker** slowly turned the tide in their favour."
   ]
  }
 ],
 "metadata": {
  "kernelspec": {
   "display_name": "Python 3 (ipykernel)",
   "language": "python",
   "name": "python3"
  },
  "language_info": {
   "codemirror_mode": {
    "name": "ipython",
    "version": 3
   },
   "file_extension": ".py",
   "mimetype": "text/x-python",
   "name": "python",
   "nbconvert_exporter": "python",
   "pygments_lexer": "ipython3",
   "version": "3.9.7"
  }
 },
 "nbformat": 4,
 "nbformat_minor": 5
}
